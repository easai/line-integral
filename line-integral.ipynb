{
 "cells": [
  {
   "cell_type": "markdown",
   "metadata": {},
   "source": [
    "# 線積分\n",
    "\n",
    "線積分とは曲線上の関数値を積分したものです。\n",
    "$$\n",
    "\\oint_C f ds\n",
    "$$\n",
    "ここで微小な変化分$ds$を$x,y,z$で表すと\n",
    "$$\n",
    "ds=\\sqrt{(dx)^2+(dy)^2+(dz)^2}\n",
    "$$\n",
    "曲線は多変数で表されるため、媒介変数で計算します。\n",
    "$$\n",
    "ds=\\sqrt{(\\frac{dx}{dt})^2+(\\frac{dy}{dt})^2+(\\frac{dz}{dt})^2}dt\n",
    "$$"
   ]
  },
  {
   "cell_type": "markdown",
   "metadata": {},
   "source": [
    "次の線積分を計算してみましょう。\n",
    "$$\n",
    "f(x,y,z)=xy+yz+xz\n",
    "$$\n",
    "曲線が以下のような媒介変数で表されるとします($0\\leq t\\leq 1$)。\n",
    "\\begin{align}\n",
    "x&=t\\\\\n",
    "y&=1-t\\\\\n",
    "z&=t^2\n",
    "\\end{align}\n",
    "それぞれ微分して$ds$を計算します。\n",
    "\\begin{align}\n",
    "ds&=\\sqrt{1^2+(-1)^2+(2t)^2}\\\\\n",
    "&=\\sqrt{2+4t^2}\n",
    "\\end{align}\n",
    "$f(x,y,z)$を$t$で表します。\n",
    "\\begin{align}\n",
    "f(x,y,z)&=t(1-t)+t^2(1-t)+t^3\\\\\n",
    "&=t\n",
    "\\end{align}\n",
    "すると積分値は以下で表されます。\n",
    "\\begin{align}\n",
    "\\int^1_0 t\\sqrt{2+4t^2}dt\n",
    "\\end{align}"
   ]
  },
  {
   "cell_type": "code",
   "execution_count": 7,
   "metadata": {},
   "outputs": [
    {
     "data": {
      "text/latex": [
       "$\\displaystyle - \\frac{\\sqrt{2}}{6} + \\frac{\\sqrt{6}}{2}$"
      ],
      "text/plain": [
       "-sqrt(2)/6 + sqrt(6)/2"
      ]
     },
     "execution_count": 7,
     "metadata": {},
     "output_type": "execute_result"
    }
   ],
   "source": [
    "from sympy import symbols, integrate,sqrt, sin, pi\n",
    "\n",
    "t=symbols(\"t\")\n",
    "f=t*sqrt(2+4*t**2)\n",
    "integrate(f,(t,0,1))"
   ]
  },
  {
   "cell_type": "markdown",
   "metadata": {},
   "source": [
    "ここでベクトル場を考えます。"
   ]
  }
 ],
 "metadata": {
  "kernelspec": {
   "display_name": "Python 3",
   "language": "python",
   "name": "python3"
  },
  "language_info": {
   "codemirror_mode": {
    "name": "ipython",
    "version": 3
   },
   "file_extension": ".py",
   "mimetype": "text/x-python",
   "name": "python",
   "nbconvert_exporter": "python",
   "pygments_lexer": "ipython3",
   "version": "3.11.5"
  }
 },
 "nbformat": 4,
 "nbformat_minor": 2
}
