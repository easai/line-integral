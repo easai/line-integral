{
 "cells": [
  {
   "cell_type": "markdown",
   "metadata": {},
   "source": [
    "# 線積分\n",
    "\n",
    "線積分とは曲線上の関数値を積分したものです。\n",
    "$$\n",
    "\\oint_C f ds\n",
    "$$\n",
    "ここで微小な変化分$ds$を$x,y,z$で表すと\n",
    "$$\n",
    "ds=\\sqrt{(dx)^2+(dy)^2+(dz)^2}\n",
    "$$\n",
    "曲線は多変数で表されるため、媒介変数で計算します。\n",
    "\\begin{align}\n",
    "ds=\\sqrt{(\\frac{dx}{dt})^2+(\\frac{dy}{dt})^2+(\\frac{dz}{dt})^2}dt\n",
    "\\end{align}"
   ]
  },
  {
   "cell_type": "markdown",
   "metadata": {},
   "source": [
    "次の線積分を計算してみましょう。\n",
    "$$\n",
    "f(x,y,z)=xy+yz+xz\n",
    "$$\n",
    "曲線が以下のような媒介変数で表されるとします($0\\leq t\\leq 1$)。\n",
    "\\begin{align}\n",
    "x&=t\\\\\n",
    "y&=1-t\\\\\n",
    "z&=t^2\n",
    "\\end{align}\n",
    "それぞれ微分して$ds$を計算します。\n",
    "\\begin{align}\n",
    "ds&=\\sqrt{1^2+(-1)^2+(2t)^2}\\\\\n",
    "&=\\sqrt{2+4t^2}\n",
    "\\end{align}\n",
    "$f(x,y,z)$を$t$で表します。\n",
    "\\begin{align}\n",
    "f(x,y,z)&=t(1-t)+t^2(1-t)+t^3\\\\\n",
    "&=t\n",
    "\\end{align}\n",
    "すると積分値は以下で表されます。\n",
    "\\begin{align}\n",
    "\\int^1_0 t\\sqrt{2+4t^2}dt\n",
    "\\end{align}"
   ]
  },
  {
   "cell_type": "code",
   "execution_count": 3,
   "metadata": {},
   "outputs": [
    {
     "data": {
      "text/latex": [
       "$\\displaystyle - \\frac{\\sqrt{2}}{6} + \\frac{\\sqrt{6}}{2}$"
      ],
      "text/plain": [
       "-sqrt(2)/6 + sqrt(6)/2"
      ]
     },
     "execution_count": 3,
     "metadata": {},
     "output_type": "execute_result"
    }
   ],
   "source": [
    "from sympy import symbols, integrate, sqrt, sin, pi\n",
    "\n",
    "t = symbols(\"t\")\n",
    "f = t * sqrt(2 + 4 * t**2)\n",
    "integrate(f, (t, 0, 1))"
   ]
  },
  {
   "cell_type": "markdown",
   "metadata": {},
   "source": [
    "ここでベクトル場を考えます。ベクトル場の場合、長さだけでなく方向も意味を持ってきます。単位接線ベクトルを$\\bold t$と置きます。\n",
    "$$\n",
    "d\\bold r=\\bold t ds\n",
    "$$\n",
    "(1)から\n",
    "\\begin{align}\n",
    "ds&=\\sqrt{({dx\\over dt})^2+({dy\\over dt})^2+({dz\\over dt})^2}dt\\\\\n",
    "&=|\\frac{d\\bold r}{dt}|dt\\\\\n",
    "\\frac{ds}{dt}&=\\lvert{d\\bold r\\over dt}\\rvert\n",
    "\\end{align}\n",
    "ここで\n",
    "$$\n",
    "\\bold t={d\\bold r\\over ds}={d\\bold r\\over dt}{dt\\over ds}=\\frac{d\\bold r\\over dt}{|{d\\bold r\\over dt}|}\n",
    "$$\n",
    "ベクトル場の線積分はベクトル場と単位接線ベクトルとの内積（投射）を足し合わせたものなので、以下のようにあらわせます。\n",
    "$$\n",
    "\\oint_C \\bold F\\cdot d\\bold r=\\oint_C \\bold F\\cdot \\bold t ds\n",
    "$$"
   ]
  },
  {
   "cell_type": "markdown",
   "metadata": {},
   "source": [
    "では計算してみましょう。\n",
    "$$\n",
    "\\bold F (x,y,z)=x\\\\\n",
    "\\bold r=(t,t^2,0)\\\\\n",
    "0\\leq t\\leq 1\n",
    "$$\n",
    "それぞれ微分をとると、\n",
    "$$\n",
    "{dx\\over dt}=1\\\\\n",
    "{dy\\over dt}=2t\\\\\n",
    "{dz\\over dt}=0\\\\\n",
    "$$\n",
    "なので線積分を計算すると\n",
    "$$\n",
    "\\int^1_0 t\\sqrt{1+4t^2} dt=\\int^5_1 t u^{1\\over 2}{du\\over 8t}dt={1\\over 8}\\int^5_1 u^{1\\over 2}du={1\\over 8}{2\\over 3}u^{3\\over 2}\\vert^5_1={1\\over 12}(5\\sqrt{5}-1)\n",
    "$$\n"
   ]
  },
  {
   "cell_type": "code",
   "execution_count": 4,
   "metadata": {},
   "outputs": [
    {
     "data": {
      "text/latex": [
       "$\\displaystyle - \\frac{1}{12} + \\frac{5 \\sqrt{5}}{12}$"
      ],
      "text/plain": [
       "-1/12 + 5*sqrt(5)/12"
      ]
     },
     "execution_count": 4,
     "metadata": {},
     "output_type": "execute_result"
    }
   ],
   "source": [
    "f = t * sqrt(1 + 4 * t**2)\n",
    "integrate(f, (t, 0, 1))"
   ]
  }
 ],
 "metadata": {
  "kernelspec": {
   "display_name": "Python 3",
   "language": "python",
   "name": "python3"
  },
  "language_info": {
   "codemirror_mode": {
    "name": "ipython",
    "version": 3
   },
   "file_extension": ".py",
   "mimetype": "text/x-python",
   "name": "python",
   "nbconvert_exporter": "python",
   "pygments_lexer": "ipython3",
   "version": "3.11.5"
  }
 },
 "nbformat": 4,
 "nbformat_minor": 2
}
